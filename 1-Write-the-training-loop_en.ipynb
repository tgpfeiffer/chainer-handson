{
 "cells": [
  {
   "cell_type": "markdown",
   "metadata": {},
   "source": [
    "# How to write a training loop in Chainer\n",
    "\n",
    "In this notebook session we will learn how to train a deep neural network to classify hand-written digits using the popular MNIST dataset. This dataset contains 50000 training examples and 10000 test examples. Each example contains a 28x28 greyscale image and a corresponding class label for the digit. Since the digits 0-9 are used, there are 10 class labels. \n",
    " \n",
    "Chainer provides a feature called `Trainer` that can be used to simplify the training process. However, we think it is good for first-time users to understand how the training process works before using the `Trainer` feature. Even advanced users might sometimes want to write their own training loop and so we will explain how to do so here. The complete training process consists of the following steps:\n",
    "\n",
    "1. Prepare a dataset that contains the train/validation/test examples.\n",
    "2. Optionally create a set of iterators for the dataset.\n",
    "3. Write a training loop that performs the following operations in each iteration:\n",
    "     1. Retrieve batches of examples from the training dataset.\n",
    "     2. Feed the batches into the model.\n",
    "     3. Run the forward pass on the model to compute the loss.\n",
    "     4. Run the backward pass on the model to compute the gradients.\n",
    "     5. Run the optimizer on the model to update the parameters.\n",
    "     6. (Optional): Occasionally check the performance on a validation/test set.\n"
   ]
  },
  {
   "cell_type": "markdown",
   "metadata": {},
   "source": [
    "## 1. Prepare the dataset\n",
    "\n",
    "Chainer contains some built-in functions that can be used to download and return Chainer-formatted versions of popular datasets used by the ML and deep learning communities. In this example, we will use the built-in function that retrieves the MNIST dataset.\n",
    "\n"
   ]
  },
  {
   "cell_type": "code",
   "execution_count": 1,
   "metadata": {
    "collapsed": false
   },
   "outputs": [
    {
     "data": {
      "image/png": "[encoded data removed]",
      "text/plain": [
       "<matplotlib.figure.Figure at 0x7f2074252860>"
      ]
     },
     "metadata": {},
     "output_type": "display_data"
    },
    {
     "name": "stdout",
     "output_type": "stream",
     "text": [
      "label: 5\n"
     ]
    }
   ],
   "source": [
    "from chainer.datasets import mnist\n",
    "\n",
    "# Download the MNIST data if you haven't downloaded it yet\n",
    "train, test = mnist.get_mnist(withlabel=True, ndim=1)\n",
    "\n",
    "# set matplotlib so that we can see our drawing inside this notebook\n",
    "%matplotlib inline\n",
    "import matplotlib.pyplot as plt\n",
    "\n",
    "# Display an example from the MNIST dataset.\n",
    "# `x` contains the input image array and `t` contains that target class\n",
    "# label as an integer.\n",
    "x, t = train[0]\n",
    "plt.imshow(x.reshape(28, 28), cmap='gray')\n",
    "plt.show()\n",
    "print('label:', t)"
   ]
  },
  {
   "cell_type": "markdown",
   "metadata": {},
   "source": [
    "## 2. Create the dataset iterators\n",
    "\n",
    "Although this is an optional step, it can often be convenient to use iterators that operate on a dataset and return a certain number of examples (often called a \"mini-batch\") at a time. The number of examples that is returned at a time is called the \"batch size\" or \"mini-batch size.\" Chainer already has an `Iterator` class and some subclasses that can be used for this purpose and it is straightforward for users to write their own as well.\n",
    "\n",
    "We will use the `SerialIterator` subclass of `Iterator` in this example. The `SerialIterator` can either return the examples in the same order that they appear in the dataset (that is, in sequential order) or can shuffle the examples so that they are returned in a random order.\n",
    "\n",
    "An Iterator can return a new minibatch by calling its `next()` method. An Iterator also has properties to manage the training such as `epoch`: how many times we have gone through the entire dataset, `is_new_epoch`: whether the current iteration is the first iteration of a new epoch."
   ]
  },
  {
   "cell_type": "code",
   "execution_count": 2,
   "metadata": {
    "collapsed": true
   },
   "outputs": [],
   "source": [
    "from chainer import iterators\n",
    "\n",
    "# Choose the minibatch size.\n",
    "batchsize = 128\n",
    "\n",
    "train_iter = iterators.SerialIterator(train, batchsize)\n",
    "test_iter = iterators.SerialIterator(test, batchsize,\n",
    "                                     repeat=False, shuffle=False)"
   ]
  },
  {
   "cell_type": "markdown",
   "metadata": {},
   "source": [
    "### Details about SerialIterator\n",
    "\n",
    "- `SerialIterator` is a built-in subclass of `Iterator` that can be used to retrieve a dataset in either sequential or shuffled order.\n",
    "- The `Iterator` initializer takes two arguments: the dataset object and a batch size. \n",
    "- When data needs to be used repeatedly for training, set the `repeat` argument to `True` (the default). When data is needed only once and no longer necessary for retrieving the data anymore, set `repeat` to `False`.\n",
    "- When you want to shuffle the training dataset for every epoch, set the `shuffle` argument to `True`.\n",
    "\n",
    "In the example above, we set `batchsize = 128`, `train_iter` is the Iterator for the training dataset, and `test_iter` is the Iterator for test dataset. These iterators will therefore return 128 image examples as a bundle. "
   ]
  },
  {
   "cell_type": "markdown",
   "metadata": {},
   "source": [
    "## 3. Define the model\n",
    "\n",
    "Now let's define a neural network that we will train to classify the MNIST images. For simplicity, we will use a fully-connected network with three layers. We will set each hidden layer to have 100 units and set the output layer to have 10 units, corresponding to the 10 class labels for the MNIST digits 0-9. \n",
    "\n",
    "We first briefly explain `Link`, `Function`, `Chain`, and `Variable` which are the basic components used for defining and running a model in Chainer. \n",
    "\n",
    "### `Link` and `Function`\n",
    "\n",
    "In Chainer, each layer of a neural network is decomposed into one of two broad types of functions (actually, they are function objects): `Link` and `Function`.\n",
    "\n",
    "- ** `Function` is a function without learnable parameters**\n",
    "- ** `Link` is a function that contains (learnable) parameters** We can think of `Link` as wrapping a `Function` to give it parameters. That is, `Link` will contain the parameters and when it is called, it will also call a corresponding `Function`.\n",
    "\n",
    "We then describe a model by implementing code the performs the \"forward pass\" computations. This code will call various links and chains (recall that `Link` and `Chain` are callable objects). Chainer will take care of the \"backward pass\" automatically and so we do not need to worry about that unless we want to write some custom functions.\n",
    "\n",
    "- For examples of links, see the `chainer.links` module.\n",
    "- For examples of functions, see the `chainer.functions` module.\n",
    "- For example, see the `Linear` link, which wraps the `linear` function to give it weight and bias parameters.\n",
    "\n",
    "Before we can start using them, we first need to import the modules as shown below.\n",
    "\n",
    "    ```\n",
    "    import chainer.links as L\n",
    "    import chainer.functions as F\n",
    "    ```\n",
    "The Chainer convention is to use `L` for links and `F` for functions, like `L.Convolution2D(...)` or `F.relu(...)`.\n",
    "\n",
    "### `Chain`\n",
    "\n",
    "- `Chain` is a class that can hold multiple links and/or functions. It is a subclass of `Link` and so it is also a `Link`. \n",
    "- This means that a chain can contain parameters, which are the parameters of any links that it deeply contains.\n",
    "- In this way, `Chain` allows us to construct models with a potentially deep hierarchy of functions and links.\n",
    "- It is often convenient to use a single chain that contains all of the layers (other chains, links, and functions) of the model. This is because we will need to optimize the model's parameters during training and if all of the parameters are contained by a single chain, it turns out to be straightfoward to pass these parameters into an optimizer (which we describe in more detail below).\n",
    "\n",
    "### `Variable`\n",
    "In Chainer, both the activations (that is, the inputs and outputs of function and links) and the model parameters are instances of the `Variable` class. A `Variable` holds two arrays: a `data` array that contains the values that are read/written during the forward pass (or the parameter values), and a `grad` array that contains the corresponding gradients that will are computed during the backward pass.\n",
    "\n",
    "A `Variable` can potentially contain two types of arrays as well, depending whether the array resides in CPU or GPU memory. By default, the CPU is used and these will be Numpy arrays. However, it is possible to move or create these arrays on the GPU as well, in which case they will be CuPy arrays. Fortunately, CuPy uses an API that is nearly identical to Numpy. This is convenient because in addition to making it easier for users to learn (there is almost nothing to learn if you are already familiar with Numpy), it often allows us to reuse the same code for both Numpy and CuPy arrays.\n",
    "\n",
    "\n",
    "### Create our model as a subclass of `Chain` \n",
    "\n",
    "We can create our model to write a new subclass of `Chain`. The two main steps are:\n",
    "\n",
    "1. Any links (possibly also including other chains) that we wish to call during the forward computation of our chain must first be supplied to the chain's `__init__` method. After the `__init__` method has been called, these links will then be accessible as attributes of our chain object. This means that we also need to provide the attribute name that we want to use for each link that is supplied. We do this by providing the attribute name and corresponding link object as keyword arguments to `__init__`, as we will do in the `MLP` chain below.\n",
    "2. We need to define a `__call__` method that allows our chain to be called like a function. This method takes one or more `Variable` objects as input (that is, the input activations) and returns one or more `Variable` objects. This method executes the forward pass of the model by calling any of the links that we supplied to `__init__` earlier as well as any functions.\n",
    "\n",
    "Note that the links only need to be supplied to `__init__`, not `__call__`. This is because they contain parameters. Since functions do not contain any parameters, they can be called in `__call__` without having to supply them to the chain beforehand. For example, we can use a function such as `F.relu` by simply calling it in `__call__` but a link such as `L.Linear` would need to first be supplied to the chain's `__init__` in order to call it in `__call__`.\n",
    "\n",
    "If we decide that we want to call a link in a chain after `__init__` has already been called, we can use the `add_link` method of `Chain` to add a new link at any time.\n",
    "\n",
    "In Chainer, the Python code that implements the forward computation code itself represents the model. In other words, we can conceptually think of the computation graph for our model being constructed dynamically as this forward computation code executes. This allows Chainer to describe networks in which different computations can be performed in each iteration, such as branched networks, intuitively and with a high degree of flexibiity. This is the key feature of Chainer that we call **Define-by-Run**.\n",
    "\n",
    "\n",
    "### How to run a model on GPU\n",
    "\n",
    "- The `Link` and `Chain` classes have a `to_gpu` method that takes a GPU id argument specifying which GPU to use. This method sends all of the model parameters to GPU memory.\n",
    "- By default, the CPU is used.\n"
   ]
  },
  {
   "cell_type": "code",
   "execution_count": 3,
   "metadata": {
    "collapsed": false
   },
   "outputs": [],
   "source": [
    "import chainer\n",
    "import chainer.links as L\n",
    "import chainer.functions as F\n",
    "\n",
    "class MLP(chainer.Chain):\n",
    "\n",
    "    def __init__(self, n_mid_units=100, n_out=10):\n",
    "        # register layers with parameters by super initializer\n",
    "        super(MLP, self).__init__()\n",
    "        with self.init_scope():\n",
    "            self.l1=L.Linear(None, n_mid_units)\n",
    "            self.l2=L.Linear(None, n_mid_units)\n",
    "            self.l3=L.Linear(None, n_out)\n",
    "\n",
    "    def __call__(self, x):\n",
    "        # describe the forward pass, given x (input data)\n",
    "        h1 = F.relu(self.l1(x))\n",
    "        h2 = F.relu(self.l2(h1))\n",
    "        return self.l3(h2)\n",
    "\n",
    "gpu_id = 0  # change to -1 if not using GPU\n",
    "\n",
    "model = MLP()\n",
    "if gpu_id >= 0:\n",
    "    model.to_gpu(gpu_id)"
   ]
  },
  {
   "cell_type": "markdown",
   "metadata": {},
   "source": [
    "### NOTE\n",
    "\n",
    "The `L.Linear` class is a link that represents a fully connected layer. When `None` is passed as the first argument, this allows the number of necessary input units (`n_input`) and also the size of the weight and bias parameters to be automatically determined and computed at runtime during the first forward pass. We call this feature `parameter shape placeholder`. This can be a very helpful feature when defining deep neural network models, since it would often be tedious to manually determine these input sizes. \n",
    "\n",
    "As mentioned previously, a `Link` can contain multiple parameter arrays. For example, the `L.Linear` link contains two parameter arrays: the weights `W` and bias `b`. Recall that for a given link or chain, such as the `MLP` chain above, the links it contains can be accessed as attributes (or properties). The parameters of a link can also be accessed as attributes. For example, the following code shows how to access the bias parameter of layer `l1`:"
   ]
  },
  {
   "cell_type": "code",
   "execution_count": 4,
   "metadata": {
    "collapsed": false
   },
   "outputs": [
    {
     "name": "stdout",
     "output_type": "stream",
     "text": [
      "The shape of the bias of the first layer, l1, in the model、 (100,)\n",
      "The values of the bias of the first layer in the model after initialization、 [ 0.  0.  0.  0.  0.  0.  0.  0.  0.  0.  0.  0.  0.  0.  0.  0.  0.  0.\n",
      "  0.  0.  0.  0.  0.  0.  0.  0.  0.  0.  0.  0.  0.  0.  0.  0.  0.  0.\n",
      "  0.  0.  0.  0.  0.  0.  0.  0.  0.  0.  0.  0.  0.  0.  0.  0.  0.  0.\n",
      "  0.  0.  0.  0.  0.  0.  0.  0.  0.  0.  0.  0.  0.  0.  0.  0.  0.  0.\n",
      "  0.  0.  0.  0.  0.  0.  0.  0.  0.  0.  0.  0.  0.  0.  0.  0.  0.  0.\n",
      "  0.  0.  0.  0.  0.  0.  0.  0.  0.  0.]\n"
     ]
    }
   ],
   "source": [
    "print('The shape of the bias of the first layer, l1, in the model、', model.l1.b.shape)\n",
    "print('The values of the bias of the first layer in the model after initialization、', model.l1.b.data)"
   ]
  },
  {
   "cell_type": "markdown",
   "metadata": {},
   "source": [
    "## 4. Select an optimization algorithm\n",
    "\n",
    "Chainer provides a wide variety of optimization algorithms that can be used to optimize the model parameters during training. They are located in the `chainer.optimizers` module. \n",
    "\n",
    "Here, we are going to use the basic stochastic gradient descent (SGD) method, which is implemented by `optimizers.SGD`. The model (recall that it is a `Chain` object) we created is passed to the optimizer object by providing the model as an argument to the optimizer's `setup` method. In this way, Optimizer can automatically find the model parameters to be optimized. \n",
    "\n",
    "You can easily try out other optimizers as well. Please test and observe the results of various optimizers. For example, you could try to change `SGD` of `chainer.optimizers.SGD` to `MomentumSGD`, `RMSprop`, `Adam`, etc., and run your training loop. "
   ]
  },
  {
   "cell_type": "code",
   "execution_count": 5,
   "metadata": {
    "collapsed": true
   },
   "outputs": [],
   "source": [
    "from chainer import optimizers\n",
    "\n",
    "# Choose an optimizer algorithm\n",
    "optimizer = optimizers.SGD(lr=0.01)\n",
    "# Give the optimizer a reference to the model so that it\n",
    "# can locate the model's parameters.\n",
    "optimizer.setup(model)"
   ]
  },
  {
   "cell_type": "markdown",
   "metadata": {},
   "source": [
    "### NOTE\n",
    "\n",
    "Observe that above, we set`lr` to 0.01 in the SGD constructor. This value is known as a the \"learning rate\", one of the most important ** hyper parameters** that need be adjusted in order to obtain the best performance. The various optimizers may each have different hyper-parameters and so be sure to check the documentation for the details."
   ]
  },
  {
   "cell_type": "markdown",
   "metadata": {},
   "source": [
    "## 5. Write the training loop\n",
    "\n",
    "We now show how to write the training loop. Since we are working on a digit classification problem, we will use `softmax_cross_entropy` as the loss function for the optimizer to minimize. For other types of problems, such as regression models, other loss functions might be more appropriate. See the Chainer documentation for detailed information on the various loss functions that are available.\n",
    "\n",
    "Our training loop will be structured as follows. We will first get a mini-batch of examples from the training dataset. We will then feed the batch into our model by calling our model (a `Chain` object) like a function. This will execute the forward-pass code that we wrote for the chain's `__call__` method that we wrote above. This will cause the model to output class label predictions that we supply to the loss function along with the true (that is, target) values. The loss function will output the loss as a `Variable` object. We then clear any previous gradients and perform the backward pass by calling the `backward` method on the loss variable which computes the parameter gradients. We need to clear the gradients first because the `backward` method accumulates gradients instead of overwriting the previous values. Since the optimizer already was given a reference to the model, it already has access to the parameters and the newly-computed gradients and so we can now call the `update` method of the optimizer which will update the model parameters.\n",
    "\n",
    "At this point you might be wondering how calling `backward` on the loss variable could possibly compute the gradients for all of the model parameters. This works as follows. First recall that all activation and parameter arrays in the model are instances of `Variable`. During the forward pass, as each function is called on its inputs, we save references in each output variable that refer to the function that created it and its input variables. In this way, by the time the final loss variable is computed, it actually contains backward references that lead all the way back to the input variables of the model. That is, the loss variable contains a representation of the entire computational graph of the model, which is recomputed each time the forward pass is performed. By following these backward references from the loss variable, each function as a `backward` method that gets called to compute any parameter gradients. Thus, by the time the end of the backward graph is reached (at the input variables of the model), all parameter gradients have been computed.  \n",
    "\n",
    "Thus, there are four steps in single training loop iteration as shown below.\n",
    "\n",
    "1. Obtain and pass a mini-batch of example images into the model and obtain the output digit predictions `prediction_train`. \n",
    "2. Compute the loss function, giving it the predicted labels from the output of our model and also the true \"target\" label values.\n",
    "3. Clear any previous gradients and call the backward method of `Variable` to compute the parameter gradients for the model.  \n",
    "4. Call the `update` method of Optimizer, which performs one optimization step and updates all of the model parameters.\n",
    "\n",
    "In addition to the above steps, it is good to occasionally check the performance of our model on a validation and/or test set. This allows us to observe how well it can generalize to new data and also check whether it is overfitting. The code below checks the performance on the test set at the end of each epoch. The code has the same structure as the training code except that no backpropagation is performed and we also commpute the accuracy on the test set using the `F.accuracy` function.\n",
    "\n",
    "We can write the training loop code as follows:"
   ]
  },
  {
   "cell_type": "code",
   "execution_count": 6,
   "metadata": {
    "collapsed": false
   },
   "outputs": [
    {
     "name": "stdout",
     "output_type": "stream",
     "text": [
      "epoch:01 train_loss:0.7985 val_loss:0.7478 val_accuracy:0.8335\n",
      "epoch:02 train_loss:0.5441 val_loss:0.4481 val_accuracy:0.8820\n",
      "epoch:03 train_loss:0.4935 val_loss:0.3714 val_accuracy:0.8979\n",
      "epoch:04 train_loss:0.2446 val_loss:0.3327 val_accuracy:0.9060\n",
      "epoch:05 train_loss:0.2880 val_loss:0.3104 val_accuracy:0.9131\n",
      "epoch:06 train_loss:0.2513 val_loss:0.2931 val_accuracy:0.9159\n",
      "epoch:07 train_loss:0.3366 val_loss:0.2801 val_accuracy:0.9194\n",
      "epoch:08 train_loss:0.2834 val_loss:0.2683 val_accuracy:0.9230\n",
      "epoch:09 train_loss:0.2018 val_loss:0.2586 val_accuracy:0.9255\n",
      "epoch:10 train_loss:0.4802 val_loss:0.2490 val_accuracy:0.9274\n"
     ]
    }
   ],
   "source": [
    "import numpy as np\n",
    "from chainer.dataset import concat_examples\n",
    "from chainer.cuda import to_cpu\n",
    "\n",
    "max_epoch = 10\n",
    "\n",
    "while train_iter.epoch < max_epoch:\n",
    "    \n",
    "    # ---------- The first iteration of training loop ----------\n",
    "    train_batch = train_iter.next()\n",
    "    image_train, target_train = concat_examples(train_batch, gpu_id)\n",
    "    \n",
    "    # calculate the prediction of the model\n",
    "    prediction_train = model(image_train)\n",
    "\n",
    "    # calculation of loss function, softmax_cross_entropy\n",
    "    loss = F.softmax_cross_entropy(prediction_train, target_train)\n",
    "\n",
    "    # calculate the gradients in the model\n",
    "    model.cleargrads()\n",
    "    loss.backward()\n",
    "\n",
    "    # update the parameters of the model\n",
    "    optimizer.update()\n",
    "    # --------------- until here One loop ----------------\n",
    "    \n",
    "    # Check if the generalization of the model is improving \n",
    "    # by measuring the accuracy of prediction after every epoch\n",
    "\n",
    "    if train_iter.is_new_epoch:  # after finishing the first epoch\n",
    "\n",
    "        # display the result of the loss function\n",
    "        print('epoch:{:02d} train_loss:{:.04f} '.format(\n",
    "            train_iter.epoch, float(to_cpu(loss.data))), end='')\n",
    "\n",
    "        test_losses = []\n",
    "        test_accuracies = []\n",
    "        while True:\n",
    "            test_batch = test_iter.next()\n",
    "            image_test, target_test = concat_examples(test_batch, gpu_id)\n",
    "\n",
    "            # forward the test data\n",
    "            prediction_test = model(image_test)\n",
    "\n",
    "            # calculate the loss function\n",
    "            loss_test = F.softmax_cross_entropy(prediction_test, target_test)\n",
    "            test_losses.append(to_cpu(loss_test.data))\n",
    "\n",
    "            # calculate the accuracy\n",
    "            accuracy = F.accuracy(prediction_test, target_test)\n",
    "            accuracy.to_cpu()\n",
    "            test_accuracies.append(accuracy.data)\n",
    "            \n",
    "            if test_iter.is_new_epoch:\n",
    "                test_iter.epoch = 0\n",
    "                test_iter.current_position = 0\n",
    "                test_iter.is_new_epoch = False\n",
    "                test_iter._pushed_position = None\n",
    "                break\n",
    "\n",
    "        print('val_loss:{:.04f} val_accuracy:{:.04f}'.format(\n",
    "            np.mean(test_losses), np.mean(test_accuracies)))"
   ]
  },
  {
   "cell_type": "markdown",
   "metadata": {},
   "source": [
    "## 6. Save the trained model\n",
    "\n",
    "Chainer provides two types of serializers that can be used to save and restore model state. One supports the HDF5 format and the other supports the Numpy NPZ format. For this example, we are going to use the NPZ format to save our model since it is easy to use with Numpy without requiring an additional dependencies or libraries."
   ]
  },
  {
   "cell_type": "code",
   "execution_count": 7,
   "metadata": {
    "collapsed": false
   },
   "outputs": [
    {
     "name": "stdout",
     "output_type": "stream",
     "text": [
      "-rw-rw-r-- 1 crissman crissman 333987 Jun 26 16:14 my_mnist.model\r\n"
     ]
    }
   ],
   "source": [
    "from chainer import serializers\n",
    "\n",
    "serializers.save_npz('my_mnist.model', model)\n",
    "\n",
    "# check if the model is saved.\n",
    "%ls -la my_mnist.model"
   ]
  },
  {
   "cell_type": "markdown",
   "metadata": {},
   "source": [
    "## 7. Perform classification by restoring a previously trained model \n",
    "\n",
    "We will now use our previously trained and saved MNIST model to classify a new image. In order to load a previously-trained model, we need to perform the following two steps:\n",
    "1. We must use the same model definition code the was used to create the previously-trained model. For our example, this is the `MLP` chain that we created earlier.\n",
    "2. We then overwrite any parameters in the newly-created model with the values that were saved earlier using the serializer. The `serializers.load_npz` function can be used to do this.\n",
    "\n",
    "Now that the model has been restored, it can be used to predict image labels on new input images."
   ]
  },
  {
   "cell_type": "code",
   "execution_count": 8,
   "metadata": {
    "collapsed": false
   },
   "outputs": [],
   "source": [
    "# Create the infrence (evaluation) model as the previous model\n",
    "infer_model = MLP()\n",
    "\n",
    "# Load the saved parameters into the parameters of the new inference model to overwrite \n",
    "serializers.load_npz('my_mnist.model', infer_model)\n",
    "\n",
    "# Send the model to utilize GPU by to_GPU\n",
    "if gpu_id >= 0:\n",
    "    infer_model.to_gpu(gpu_id)"
   ]
  },
  {
   "cell_type": "code",
   "execution_count": 9,
   "metadata": {
    "collapsed": false
   },
   "outputs": [
    {
     "data": {
      "image/png": "[encoded data removed]",
      "text/plain": [
       "<matplotlib.figure.Figure at 0x7f2078b831d0>"
      ]
     },
     "metadata": {},
     "output_type": "display_data"
    },
    {
     "name": "stdout",
     "output_type": "stream",
     "text": [
      "label: 7\n"
     ]
    }
   ],
   "source": [
    "# Get a test image and label\n",
    "x, t = test[0]\n",
    "plt.imshow(x.reshape(28, 28), cmap='gray')\n",
    "plt.show()\n",
    "print('label:', t)"
   ]
  },
  {
   "cell_type": "code",
   "execution_count": 10,
   "metadata": {
    "collapsed": false
   },
   "outputs": [
    {
     "name": "stdout",
     "output_type": "stream",
     "text": [
      "(784,) -> (1, 784)\n",
      "predicted label: 7\n"
     ]
    }
   ],
   "source": [
    "from chainer.cuda import to_gpu\n",
    "\n",
    "# change the shape to minibatch. \n",
    "# In this example, the size of minibatch is 1. \n",
    "# Inference using any mini-batch size can be performed.\n",
    "\n",
    "print(x.shape, end=' -> ')\n",
    "x = x[None, ...]\n",
    "print(x.shape)\n",
    "\n",
    "# to calculate by GPU, send the data to GPU, too. \n",
    "if gpu_id >= 0:\n",
    "    x = to_gpu(x, 0)\n",
    "\n",
    "# forward calculation of the model by sending X\n",
    "y = infer_model(x)\n",
    "\n",
    "# The result is given as Variable, then we can take a look at the contents by the attribute, .data. \n",
    "y = y.data\n",
    "\n",
    "# send the gpu result to cpu\n",
    "y = to_cpu(y)\n",
    "\n",
    "# The most probable number by looking at the argmax\n",
    "pred_label = y.argmax(axis=1)\n",
    "\n",
    "print('predicted label:', pred_label[0])"
   ]
  }
 ],
 "metadata": {
  "anaconda-cloud": {},
  "kernelspec": {
   "display_name": "Python [conda root]",
   "language": "python",
   "name": "conda-root-py"
  },
  "language_info": {
   "codemirror_mode": {
    "name": "ipython",
    "version": 3
   },
   "file_extension": ".py",
   "mimetype": "text/x-python",
   "name": "python",
   "nbconvert_exporter": "python",
   "pygments_lexer": "ipython3",
   "version": "3.5.2"
  }
 },
 "nbformat": 4,
 "nbformat_minor": 0
}
